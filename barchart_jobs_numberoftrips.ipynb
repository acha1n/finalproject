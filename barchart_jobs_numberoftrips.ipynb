{
 "cells": [
  {
   "cell_type": "code",
   "execution_count": 1,
   "id": "339ad202",
   "metadata": {},
   "outputs": [],
   "source": [
    "import pandas as pd\n",
    "import numpy as np\n",
    "import matplotlib.pyplot as plt\n",
    "import seaborn as sns\n",
    "%matplotlib inline\n",
    "from sklearn.linear_model import LinearRegression\n",
    "from sklearn.model_selection import train_test_split\n",
    "from sklearn.tree import DecisionTreeClassifier\n",
    "from sklearn.metrics import classification_report, confusion_matrix, accuracy_score\n",
    "from pylab import *\n",
    "import  statsmodels.api as sm\n",
    "import statsmodels.stats.api as sms\n",
    "from scipy.stats import boxcox\n",
    "from sklearn.model_selection import KFold\n",
    "from sklearn.model_selection import cross_val_score"
   ]
  },
  {
   "cell_type": "code",
   "execution_count": 41,
   "id": "4b8dbe4d",
   "metadata": {},
   "outputs": [],
   "source": [
    "ProdTaken =  pd.read_csv('C:/Users/dollp/Desktop/Dataset/TravelPurchased.csv')\n",
    "NoProd =  pd.read_csv('C:/Users/dollp/Desktop/Dataset/nopurchase.csv')"
   ]
  },
  {
   "cell_type": "code",
   "execution_count": null,
   "id": "3c7a19aa",
   "metadata": {},
   "outputs": [],
   "source": [
    "# Information on people who bought a travel package"
   ]
  },
  {
   "cell_type": "code",
   "execution_count": 31,
   "id": "2a93e79a",
   "metadata": {},
   "outputs": [
    {
     "name": "stdout",
     "output_type": "stream",
     "text": [
      "<class 'pandas.core.frame.DataFrame'>\n",
      "RangeIndex: 866 entries, 0 to 865\n",
      "Data columns (total 20 columns):\n",
      " #   Column                    Non-Null Count  Dtype  \n",
      "---  ------                    --------------  -----  \n",
      " 0   CustomerID                866 non-null    int64  \n",
      " 1   ProdTaken                 866 non-null    int64  \n",
      " 2   Age                       866 non-null    int64  \n",
      " 3   TypeofContact             866 non-null    object \n",
      " 4   CityTier                  866 non-null    int64  \n",
      " 5   DurationOfPitch           830 non-null    float64\n",
      " 6   Occupation                866 non-null    object \n",
      " 7   Gender                    866 non-null    object \n",
      " 8   NumberOfPersonVisiting    866 non-null    int64  \n",
      " 9   NumberOfFollowups         858 non-null    float64\n",
      " 10  ProductPitched            866 non-null    object \n",
      " 11  PreferredPropertyStar     860 non-null    float64\n",
      " 12  MaritalStatus             866 non-null    object \n",
      " 13  NumberOfTrips             854 non-null    float64\n",
      " 14  Passport                  866 non-null    int64  \n",
      " 15  PitchSatisfactionScore    866 non-null    int64  \n",
      " 16  OwnCar                    866 non-null    int64  \n",
      " 17  NumberOfChildrenVisiting  859 non-null    float64\n",
      " 18  Designation               866 non-null    object \n",
      " 19  MonthlyIncome             866 non-null    int64  \n",
      "dtypes: float64(5), int64(9), object(6)\n",
      "memory usage: 135.4+ KB\n"
     ]
    }
   ],
   "source": [
    "ProdTaken.info()"
   ]
  },
  {
   "cell_type": "code",
   "execution_count": null,
   "id": "4056e2de",
   "metadata": {},
   "outputs": [],
   "source": [
    "# information on people who did not buy a package but traveled"
   ]
  },
  {
   "cell_type": "code",
   "execution_count": 108,
   "id": "b637fb2a",
   "metadata": {},
   "outputs": [
    {
     "name": "stdout",
     "output_type": "stream",
     "text": [
      "<class 'pandas.core.frame.DataFrame'>\n",
      "Int64Index: 3331 entries, 0 to 3967\n",
      "Data columns (total 20 columns):\n",
      " #   Column                    Non-Null Count  Dtype  \n",
      "---  ------                    --------------  -----  \n",
      " 0   CustomerID                3331 non-null   int64  \n",
      " 1   ProdTaken                 3331 non-null   int64  \n",
      " 2   Age                       3331 non-null   int32  \n",
      " 3   TypeofContact             3331 non-null   int64  \n",
      " 4   CityTier                  3331 non-null   int64  \n",
      " 5   DurationOfPitch           3331 non-null   float64\n",
      " 6   Occupation                3331 non-null   int64  \n",
      " 7   Gender                    3331 non-null   int64  \n",
      " 8   NumberOfPersonVisiting    3331 non-null   int64  \n",
      " 9   NumberOfFollowups         3331 non-null   float64\n",
      " 10  ProductPitched            3331 non-null   int64  \n",
      " 11  PreferredPropertyStar     3331 non-null   float64\n",
      " 12  MaritalStatus             3331 non-null   int64  \n",
      " 13  NumberOfTrips             3331 non-null   float64\n",
      " 14  Passport                  3331 non-null   int64  \n",
      " 15  PitchSatisfactionScore    3331 non-null   int64  \n",
      " 16  OwnCar                    3331 non-null   int64  \n",
      " 17  NumberOfChildrenVisiting  3331 non-null   float64\n",
      " 18  Designation               3331 non-null   int64  \n",
      " 19  MonthlyIncome             3331 non-null   float64\n",
      "dtypes: float64(6), int32(1), int64(13)\n",
      "memory usage: 533.5 KB\n"
     ]
    }
   ],
   "source": [
    "NoProd.info()"
   ]
  },
  {
   "cell_type": "code",
   "execution_count": null,
   "id": "adfe4a35",
   "metadata": {},
   "outputs": [],
   "source": [
    "# recode variables"
   ]
  },
  {
   "cell_type": "code",
   "execution_count": 106,
   "id": "3ad50c59",
   "metadata": {},
   "outputs": [],
   "source": [
    "Adj_travel = {\"Gender\": {\"Male\": 1, \"Female\": 2}, \n",
    "                \"TypeofContact\": {\"Self Enquiry\": 1,\"Company Invited\": 2},\n",
    "                \"Occupation\": {\"Salaried\": 1, \"Small Business\": 2, \"Large Business\": 3, \"Free Lancer\": 4},\n",
    "                \"ProductPitched\": {\"Basic\": 1,\"Standard\": 2, \"Deluxe\": 3, \"Super Deluxe\": 4, \"King\": 5},\n",
    "                \"MaritalStatus\": {\"Married\": 1,\"Single\": 2,\"Divorced\": 3, \"Unmarried\": 4},\n",
    "                \"Designation\": {\"Manager\": 1,\"Executive\": 2, \"Senior Manager\": 3, \"AVP\": 4, \"VP\": 5}}\n",
    "ProdTaken.replace(Adj_travel, inplace=True)"
   ]
  },
  {
   "cell_type": "code",
   "execution_count": 107,
   "id": "b2991cea",
   "metadata": {},
   "outputs": [],
   "source": [
    "NoProd.replace(Adj_travel, inplace=True)"
   ]
  },
  {
   "cell_type": "code",
   "execution_count": 45,
   "id": "a0272b25",
   "metadata": {},
   "outputs": [],
   "source": [
    "ProdTaken.dropna(inplace=True)\n",
    "NoProd.dropna(inplace=True)"
   ]
  },
  {
   "cell_type": "code",
   "execution_count": 46,
   "id": "979281a8",
   "metadata": {},
   "outputs": [],
   "source": [
    "ProdTaken.Age = np.round (ProdTaken.Age)\n",
    "NoProd.Age = np.round (NoProd.Age)"
   ]
  },
  {
   "cell_type": "code",
   "execution_count": 47,
   "id": "0f8df7a8",
   "metadata": {},
   "outputs": [],
   "source": [
    "ProdTaken.Age = ProdTaken.Age.astype(int)\n",
    "NoProd.Age = NoProd.Age.astype(int)"
   ]
  },
  {
   "cell_type": "code",
   "execution_count": 48,
   "id": "74e7a576",
   "metadata": {},
   "outputs": [
    {
     "data": {
      "text/plain": [
       "Salaried          359\n",
       "Small Business    325\n",
       "Large Business    111\n",
       "Free Lancer         2\n",
       "Name: Occupation, dtype: int64"
      ]
     },
     "execution_count": 48,
     "metadata": {},
     "output_type": "execute_result"
    }
   ],
   "source": [
    "ProdTaken['Occupation'].value_counts()"
   ]
  },
  {
   "cell_type": "code",
   "execution_count": 50,
   "id": "6c74c3ae",
   "metadata": {},
   "outputs": [
    {
     "data": {
      "text/plain": [
       "Salaried          1640\n",
       "Small Business    1421\n",
       "Large Business     270\n",
       "Name: Occupation, dtype: int64"
      ]
     },
     "execution_count": 50,
     "metadata": {},
     "output_type": "execute_result"
    }
   ],
   "source": [
    "NoProd['Occupation'].value_counts()"
   ]
  },
  {
   "cell_type": "code",
   "execution_count": null,
   "id": "e985bcf7",
   "metadata": {},
   "outputs": [],
   "source": [
    "# Quick glance at occupation with those who bought product and didnt buy product"
   ]
  },
  {
   "cell_type": "code",
   "execution_count": 54,
   "id": "b4462fa1",
   "metadata": {},
   "outputs": [
    {
     "data": {
      "image/png": "[encoded data removed]",
      "text/plain": [
       "<Figure size 432x288 with 1 Axes>"
      ]
     },
     "metadata": {
      "needs_background": "light"
     },
     "output_type": "display_data"
    }
   ],
   "source": [
    "Jobs = [\"Salaried\", \"Small Business\", \"Large Business\", \"Free Lancer\"]\n",
    "y1 = [359, 325, 111, 2]\n",
    "y2 = [1640, 1421, 240, 0]\n",
    "plt.bar(x, y1, color='r')\n",
    "plt.bar(x, y2, bottom=y1, color='b')\n",
    "plt.legend([\"No purchase\", \"Purchase\"])\n",
    "plt.show()"
   ]
  },
  {
   "cell_type": "code",
   "execution_count": 97,
   "id": "067a1778",
   "metadata": {},
   "outputs": [
    {
     "data": {
      "text/plain": [
       "2.0     274\n",
       "3.0     193\n",
       "1.0      83\n",
       "7.0      56\n",
       "5.0      56\n",
       "4.0      52\n",
       "6.0      52\n",
       "8.0      29\n",
       "20.0      1\n",
       "19.0      1\n",
       "Name: NumberOfTrips, dtype: int64"
      ]
     },
     "execution_count": 97,
     "metadata": {},
     "output_type": "execute_result"
    }
   ],
   "source": [
    "ProdTaken['NumberOfTrips'].value_counts()"
   ]
  },
  {
   "cell_type": "code",
   "execution_count": 100,
   "id": "abde67d2",
   "metadata": {},
   "outputs": [
    {
     "data": {
      "text/plain": [
       "2.0     993\n",
       "3.0     800\n",
       "1.0     384\n",
       "4.0     370\n",
       "5.0     340\n",
       "6.0     231\n",
       "7.0     137\n",
       "8.0      74\n",
       "21.0      1\n",
       "22.0      1\n",
       "Name: NumberOfTrips, dtype: int64"
      ]
     },
     "execution_count": 100,
     "metadata": {},
     "output_type": "execute_result"
    }
   ],
   "source": [
    "NoProd['NumberOfTrips'].value_counts()"
   ]
  },
  {
   "cell_type": "code",
   "execution_count": null,
   "id": "752150c8",
   "metadata": {},
   "outputs": [],
   "source": [
    "# number of trips varying between the two groups"
   ]
  },
  {
   "cell_type": "code",
   "execution_count": 105,
   "id": "dac1fd4d",
   "metadata": {},
   "outputs": [
    {
     "data": {
      "image/png": "[encoded data removed]",
      "text/plain": [
       "<Figure size 432x288 with 1 Axes>"
      ]
     },
     "metadata": {
      "needs_background": "light"
     },
     "output_type": "display_data"
    }
   ],
   "source": [
    "x = [\"1-2\", \"3-4\", \"5-6\", \"7-8\", \"19+\"]\n",
    "y1 = [357, 245, 108, 85, 2]\n",
    "y2 = [1377, 1170, 572, 211, 2]\n",
    "plt.bar(x, y1, color='r')\n",
    "plt.bar(x, y2, bottom=y1, color='b')\n",
    "plt.legend([\"No purchase\", \"Purchase\"])\n",
    "plt.show()"
   ]
  },
  {
   "cell_type": "code",
   "execution_count": null,
   "id": "e58f3629",
   "metadata": {},
   "outputs": [],
   "source": []
  }
 ],
 "metadata": {
  "kernelspec": {
   "display_name": "Python 3",
   "language": "python",
   "name": "python3"
  },
  "language_info": {
   "codemirror_mode": {
    "name": "ipython",
    "version": 3
   },
   "file_extension": ".py",
   "mimetype": "text/x-python",
   "name": "python",
   "nbconvert_exporter": "python",
   "pygments_lexer": "ipython3",
   "version": "3.8.8"
  }
 },
 "nbformat": 4,
 "nbformat_minor": 5
}
