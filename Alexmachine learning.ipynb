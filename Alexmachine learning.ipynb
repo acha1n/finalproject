{
 "cells": [
  {
   "cell_type": "code",
   "execution_count": 60,
   "id": "6f01ac80",
   "metadata": {},
   "outputs": [],
   "source": [
    "import pandas as pd\n",
    "import numpy as np\n",
    "import matplotlib.pyplot as plt\n",
    "import seaborn as sns\n",
    "%matplotlib inline\n",
    "from sklearn.model_selection import train_test_split\n",
    "from sklearn.tree import DecisionTreeClassifier\n",
    "from sklearn.metrics import classification_report, confusion_matrix, accuracy_score\n",
    "from sklearn.ensemble import RandomForestClassifier\n",
    "from sklearn.model_selection import RandomizedSearchCV\n"
   ]
  },
  {
   "cell_type": "code",
   "execution_count": 62,
   "id": "a544e2b9",
   "metadata": {},
   "outputs": [],
   "source": [
    "travel =  pd.read_excel('TravelFocusGroup.xlsx')"
   ]
  },
  {
   "cell_type": "code",
   "execution_count": 63,
   "id": "d20cd368",
   "metadata": {},
   "outputs": [
    {
     "data": {
      "text/html": [
       "<div>\n",
       "<style scoped>\n",
       "    .dataframe tbody tr th:only-of-type {\n",
       "        vertical-align: middle;\n",
       "    }\n",
       "\n",
       "    .dataframe tbody tr th {\n",
       "        vertical-align: top;\n",
       "    }\n",
       "\n",
       "    .dataframe thead th {\n",
       "        text-align: right;\n",
       "    }\n",
       "</style>\n",
       "<table border=\"1\" class=\"dataframe\">\n",
       "  <thead>\n",
       "    <tr style=\"text-align: right;\">\n",
       "      <th></th>\n",
       "      <th>CustomerID</th>\n",
       "      <th>SaleIndex</th>\n",
       "      <th>Age</th>\n",
       "      <th>cat_Age</th>\n",
       "      <th>Gender</th>\n",
       "      <th>MaritalStatus</th>\n",
       "      <th>MonthlyIncome</th>\n",
       "      <th>cat_Income</th>\n",
       "      <th>NumberOfChildrenVisiting</th>\n",
       "      <th>Passport</th>\n",
       "      <th>Occupation</th>\n",
       "      <th>OwnCar</th>\n",
       "      <th>TypeofContact</th>\n",
       "      <th>Designation</th>\n",
       "      <th>NumberOfFollowups</th>\n",
       "      <th>CityTier</th>\n",
       "      <th>PreferredPropertyStar</th>\n",
       "      <th>ProductPitched</th>\n",
       "      <th>DurationOfPitch</th>\n",
       "      <th>PitchSatisfactionScore</th>\n",
       "    </tr>\n",
       "  </thead>\n",
       "  <tbody>\n",
       "    <tr>\n",
       "      <th>0</th>\n",
       "      <td>200001</td>\n",
       "      <td>6</td>\n",
       "      <td>49</td>\n",
       "      <td>40s</td>\n",
       "      <td>Male</td>\n",
       "      <td>Divorced</td>\n",
       "      <td>20130</td>\n",
       "      <td>20k-25k</td>\n",
       "      <td>2</td>\n",
       "      <td>0</td>\n",
       "      <td>Salaried</td>\n",
       "      <td>1</td>\n",
       "      <td>Company Invited</td>\n",
       "      <td>Manager</td>\n",
       "      <td>4</td>\n",
       "      <td>1</td>\n",
       "      <td>4</td>\n",
       "      <td>Deluxe</td>\n",
       "      <td>14</td>\n",
       "      <td>3</td>\n",
       "    </tr>\n",
       "    <tr>\n",
       "      <th>1</th>\n",
       "      <td>200025</td>\n",
       "      <td>10</td>\n",
       "      <td>53</td>\n",
       "      <td>50s</td>\n",
       "      <td>Female</td>\n",
       "      <td>Married</td>\n",
       "      <td>34094</td>\n",
       "      <td>30-35k</td>\n",
       "      <td>1</td>\n",
       "      <td>0</td>\n",
       "      <td>Salaried</td>\n",
       "      <td>0</td>\n",
       "      <td>Self Enquiry</td>\n",
       "      <td>VP</td>\n",
       "      <td>3</td>\n",
       "      <td>1</td>\n",
       "      <td>3</td>\n",
       "      <td>King</td>\n",
       "      <td>11</td>\n",
       "      <td>5</td>\n",
       "    </tr>\n",
       "    <tr>\n",
       "      <th>2</th>\n",
       "      <td>200027</td>\n",
       "      <td>2</td>\n",
       "      <td>42</td>\n",
       "      <td>40s</td>\n",
       "      <td>Male</td>\n",
       "      <td>Divorced</td>\n",
       "      <td>21825</td>\n",
       "      <td>20k-25k</td>\n",
       "      <td>1</td>\n",
       "      <td>0</td>\n",
       "      <td>Small Business</td>\n",
       "      <td>0</td>\n",
       "      <td>Self Enquiry</td>\n",
       "      <td>Manager</td>\n",
       "      <td>3</td>\n",
       "      <td>3</td>\n",
       "      <td>4</td>\n",
       "      <td>Deluxe</td>\n",
       "      <td>14</td>\n",
       "      <td>3</td>\n",
       "    </tr>\n",
       "    <tr>\n",
       "      <th>3</th>\n",
       "      <td>200029</td>\n",
       "      <td>8</td>\n",
       "      <td>46</td>\n",
       "      <td>40s</td>\n",
       "      <td>Female</td>\n",
       "      <td>Single</td>\n",
       "      <td>33947</td>\n",
       "      <td>30-35k</td>\n",
       "      <td>1</td>\n",
       "      <td>0</td>\n",
       "      <td>Small Business</td>\n",
       "      <td>0</td>\n",
       "      <td>Self Enquiry</td>\n",
       "      <td>VP</td>\n",
       "      <td>3</td>\n",
       "      <td>3</td>\n",
       "      <td>5</td>\n",
       "      <td>King</td>\n",
       "      <td>8</td>\n",
       "      <td>2</td>\n",
       "    </tr>\n",
       "    <tr>\n",
       "      <th>4</th>\n",
       "      <td>200031</td>\n",
       "      <td>6</td>\n",
       "      <td>44</td>\n",
       "      <td>40s</td>\n",
       "      <td>Male</td>\n",
       "      <td>Divorced</td>\n",
       "      <td>21465</td>\n",
       "      <td>20k-25k</td>\n",
       "      <td>1</td>\n",
       "      <td>1</td>\n",
       "      <td>Salaried</td>\n",
       "      <td>1</td>\n",
       "      <td>Self Enquiry</td>\n",
       "      <td>Manager</td>\n",
       "      <td>3</td>\n",
       "      <td>1</td>\n",
       "      <td>3</td>\n",
       "      <td>Deluxe</td>\n",
       "      <td>16</td>\n",
       "      <td>3</td>\n",
       "    </tr>\n",
       "  </tbody>\n",
       "</table>\n",
       "</div>"
      ],
      "text/plain": [
       "   CustomerID  SaleIndex  Age cat_Age  Gender MaritalStatus  MonthlyIncome  \\\n",
       "0      200001          6   49     40s    Male      Divorced          20130   \n",
       "1      200025         10   53     50s  Female       Married          34094   \n",
       "2      200027          2   42     40s    Male      Divorced          21825   \n",
       "3      200029          8   46     40s  Female        Single          33947   \n",
       "4      200031          6   44     40s    Male      Divorced          21465   \n",
       "\n",
       "  cat_Income  NumberOfChildrenVisiting  Passport      Occupation  OwnCar  \\\n",
       "0    20k-25k                         2         0        Salaried       1   \n",
       "1     30-35k                         1         0        Salaried       0   \n",
       "2    20k-25k                         1         0  Small Business       0   \n",
       "3     30-35k                         1         0  Small Business       0   \n",
       "4    20k-25k                         1         1        Salaried       1   \n",
       "\n",
       "     TypeofContact Designation  NumberOfFollowups  CityTier  \\\n",
       "0  Company Invited     Manager                  4         1   \n",
       "1     Self Enquiry          VP                  3         1   \n",
       "2     Self Enquiry     Manager                  3         3   \n",
       "3     Self Enquiry          VP                  3         3   \n",
       "4     Self Enquiry     Manager                  3         1   \n",
       "\n",
       "   PreferredPropertyStar ProductPitched  DurationOfPitch  \\\n",
       "0                      4         Deluxe               14   \n",
       "1                      3           King               11   \n",
       "2                      4         Deluxe               14   \n",
       "3                      5           King                8   \n",
       "4                      3         Deluxe               16   \n",
       "\n",
       "   PitchSatisfactionScore  \n",
       "0                       3  \n",
       "1                       5  \n",
       "2                       3  \n",
       "3                       2  \n",
       "4                       3  "
      ]
     },
     "execution_count": 63,
     "metadata": {},
     "output_type": "execute_result"
    }
   ],
   "source": [
    "travel.head()"
   ]
  },
  {
   "cell_type": "code",
   "execution_count": 64,
   "id": "a5f18347",
   "metadata": {},
   "outputs": [],
   "source": [
    "travel1 = travel.drop('CustomerID', axis=1)"
   ]
  },
  {
   "cell_type": "code",
   "execution_count": 65,
   "id": "27a6e4e0",
   "metadata": {},
   "outputs": [],
   "source": [
    "travel2 = travel1.drop('cat_Age', axis=1)"
   ]
  },
  {
   "cell_type": "code",
   "execution_count": 66,
   "id": "9a7de9ca",
   "metadata": {},
   "outputs": [],
   "source": [
    "travel3 = travel2.drop('cat_Income', axis=1)"
   ]
  },
  {
   "cell_type": "code",
   "execution_count": 67,
   "id": "12adb480",
   "metadata": {},
   "outputs": [],
   "source": [
    "travel3.dropna(inplace=True)"
   ]
  },
  {
   "cell_type": "code",
   "execution_count": 68,
   "id": "0039c6fa",
   "metadata": {},
   "outputs": [],
   "source": [
    "cleanup = {\"Gender\": {\"Male\": 1, \"Female\": 2}, \n",
    "            \"TypeofContact\": {\"Self Enquiry\": 1,\"Company Invited\": 2},\n",
    "            \"Occupation\": {\"Salaried\": 1, \"Small Business\": 2, \"Large Business\": 3, \"Free Lancer\": 4},\n",
    "            \"ProductPitched\": {\"Basic\": 1,\"Standard\": 2, \"Deluxe\": 3, \"Super Deluxe\": 4, \"King\": 5},\n",
    "            \"MaritalStatus\": {\"Married\": 1,\"Single\": 2,\"Divorced\": 3, \"Unmarried\": 4},\n",
    "            \"Designation\": {\"Manager\": 1,\"Executive\": 2, \"Senior Manager\": 3, \"AVP\": 4, \"VP\": 5}}\n",
    "travel3.replace(cleanup, inplace=True)"
   ]
  },
  {
   "cell_type": "markdown",
   "id": "232bebf2",
   "metadata": {},
   "source": [
    "### Convert SaleIndex into Categorical "
   ]
  },
  {
   "cell_type": "code",
   "execution_count": 69,
   "id": "34beb591",
   "metadata": {},
   "outputs": [],
   "source": [
    "bins = [0, 10, 20, 30, 40, 100]"
   ]
  },
  {
   "cell_type": "code",
   "execution_count": 70,
   "id": "c0361b94",
   "metadata": {},
   "outputs": [],
   "source": [
    "Labels = ['0-10', '11-20','21-30', '31-40', 'Above 40']"
   ]
  },
  {
   "cell_type": "code",
   "execution_count": 71,
   "id": "2b85df3f",
   "metadata": {},
   "outputs": [],
   "source": [
    "travel3['SaleIndexRange'] = pd.cut(travel3.SaleIndex, bins, labels = Labels,include_lowest = True)"
   ]
  },
  {
   "cell_type": "code",
   "execution_count": 72,
   "id": "37d46e22",
   "metadata": {},
   "outputs": [
    {
     "data": {
      "text/plain": [
       "0-10        1233\n",
       "11-20        864\n",
       "21-30        240\n",
       "31-40         51\n",
       "Above 40       2\n",
       "Name: SaleIndexRange, dtype: int64"
      ]
     },
     "execution_count": 72,
     "metadata": {},
     "output_type": "execute_result"
    }
   ],
   "source": [
    "travel3['SaleIndexRange'].value_counts()"
   ]
  },
  {
   "cell_type": "code",
   "execution_count": 73,
   "id": "9fd93708",
   "metadata": {},
   "outputs": [],
   "source": [
    "travel3 = travel3.drop('SaleIndex', axis=1)"
   ]
  },
  {
   "cell_type": "code",
   "execution_count": 74,
   "id": "334e1acd",
   "metadata": {},
   "outputs": [
    {
     "name": "stdout",
     "output_type": "stream",
     "text": [
      "<class 'pandas.core.frame.DataFrame'>\n",
      "Int64Index: 2390 entries, 0 to 2389\n",
      "Data columns (total 17 columns):\n",
      " #   Column                    Non-Null Count  Dtype   \n",
      "---  ------                    --------------  -----   \n",
      " 0   Age                       2390 non-null   int64   \n",
      " 1   Gender                    2390 non-null   int64   \n",
      " 2   MaritalStatus             2390 non-null   int64   \n",
      " 3   MonthlyIncome             2390 non-null   int64   \n",
      " 4   NumberOfChildrenVisiting  2390 non-null   int64   \n",
      " 5   Passport                  2390 non-null   int64   \n",
      " 6   Occupation                2390 non-null   int64   \n",
      " 7   OwnCar                    2390 non-null   int64   \n",
      " 8   TypeofContact             2390 non-null   int64   \n",
      " 9   Designation               2390 non-null   int64   \n",
      " 10  NumberOfFollowups         2390 non-null   int64   \n",
      " 11  CityTier                  2390 non-null   int64   \n",
      " 12  PreferredPropertyStar     2390 non-null   int64   \n",
      " 13  ProductPitched            2390 non-null   int64   \n",
      " 14  DurationOfPitch           2390 non-null   int64   \n",
      " 15  PitchSatisfactionScore    2390 non-null   int64   \n",
      " 16  SaleIndexRange            2390 non-null   category\n",
      "dtypes: category(1), int64(16)\n",
      "memory usage: 320.0 KB\n"
     ]
    }
   ],
   "source": [
    "travel3.info()"
   ]
  },
  {
   "cell_type": "markdown",
   "id": "8be3fcc6",
   "metadata": {},
   "source": [
    "# Decision Trees"
   ]
  },
  {
   "cell_type": "markdown",
   "id": "ac4d1fce",
   "metadata": {},
   "source": [
    "Data Wrangling"
   ]
  },
  {
   "cell_type": "code",
   "execution_count": 75,
   "id": "a3a11aed",
   "metadata": {},
   "outputs": [],
   "source": [
    "x = travel3.drop('SaleIndexRange', axis=1)\n",
    "y = travel3['SaleIndexRange']"
   ]
  },
  {
   "cell_type": "markdown",
   "id": "83785b45",
   "metadata": {},
   "source": [
    "## train test split"
   ]
  },
  {
   "cell_type": "code",
   "execution_count": 76,
   "id": "6080cdfa",
   "metadata": {},
   "outputs": [],
   "source": [
    "x_train, x_test, y_train, y_test = train_test_split(x,y, test_size=0.3, random_state=80)"
   ]
  },
  {
   "cell_type": "markdown",
   "id": "75b8e010",
   "metadata": {},
   "source": [
    "## Create Initial Decision Tree"
   ]
  },
  {
   "cell_type": "code",
   "execution_count": 77,
   "id": "9036f767",
   "metadata": {},
   "outputs": [
    {
     "data": {
      "text/plain": [
       "DecisionTreeClassifier(random_state=80)"
      ]
     },
     "execution_count": 77,
     "metadata": {},
     "output_type": "execute_result"
    }
   ],
   "source": [
    "decisionTree = DecisionTreeClassifier(random_state=80)\n",
    "decisionTree.fit(x_train, y_train)"
   ]
  },
  {
   "cell_type": "markdown",
   "id": "30782fd5",
   "metadata": {},
   "source": [
    "## Assess the Model"
   ]
  },
  {
   "cell_type": "code",
   "execution_count": 78,
   "id": "64335208",
   "metadata": {},
   "outputs": [
    {
     "name": "stdout",
     "output_type": "stream",
     "text": [
      "[[226  95  34   8   1]\n",
      " [ 81 158  22   4   0]\n",
      " [ 19  21  33   4   0]\n",
      " [  4   3   0   4   0]\n",
      " [  0   0   0   0   0]]\n"
     ]
    }
   ],
   "source": [
    "treePredictions = decisionTree.predict(x_test)\n",
    "print(confusion_matrix(y_test, treePredictions))"
   ]
  },
  {
   "cell_type": "markdown",
   "id": "6a35ff57",
   "metadata": {},
   "source": [
    "Interpret result:\n",
    "Accurate Prediction: 226 of 0-10, 158 of 11-20, 33 of 21-30, 4 of 31-40, 0 of Above 40\n",
    "Inaccurate Prediction:\n",
    "    0-10: 81 predicted as 11-20,  19 as 21-30, 4 as 31-40\n",
    "   11-20: 95 predicted as  0-10,  21 as 21-30, 3 as 31-40\n",
    "   21-30: 34 predicted as  0-10,  22 as 11-20, 0 as 31-40\n",
    "   31-40: 08 predicted as  0-10,  04 as 11-20\n",
    "Above 40: 01 predicted as  0-10"
   ]
  },
  {
   "cell_type": "code",
   "execution_count": 79,
   "id": "13a843a2",
   "metadata": {},
   "outputs": [
    {
     "name": "stdout",
     "output_type": "stream",
     "text": [
      "              precision    recall  f1-score   support\n",
      "\n",
      "        0-10       0.68      0.62      0.65       364\n",
      "       11-20       0.57      0.60      0.58       265\n",
      "       21-30       0.37      0.43      0.40        77\n",
      "       31-40       0.20      0.36      0.26        11\n",
      "    Above 40       0.00      0.00      0.00         0\n",
      "\n",
      "    accuracy                           0.59       717\n",
      "   macro avg       0.37      0.40      0.38       717\n",
      "weighted avg       0.60      0.59      0.59       717\n",
      "\n"
     ]
    }
   ],
   "source": [
    "print(classification_report(y_test, treePredictions, zero_division=0))"
   ]
  },
  {
   "cell_type": "markdown",
   "id": "1e847dd6",
   "metadata": {},
   "source": [
    "Decision Tree model precision score breakdown:\n",
    "      0-10  68%\n",
    "     11-20  57%\n",
    "     21-30  37%\n",
    "     31-40  20%\n",
    "  Above 40  0%\n",
    "  Over all  60%\n",
    "  "
   ]
  },
  {
   "cell_type": "markdown",
   "id": "303cf56d",
   "metadata": {},
   "source": [
    "# Random Forest Model"
   ]
  },
  {
   "cell_type": "code",
   "execution_count": 80,
   "id": "cecc98bc",
   "metadata": {},
   "outputs": [],
   "source": [
    "x_train, x_test, y_train, y_test = train_test_split(x,y, test_size=0.3, random_state=80)"
   ]
  },
  {
   "cell_type": "markdown",
   "id": "499ab751",
   "metadata": {},
   "source": [
    "## Initial Model"
   ]
  },
  {
   "cell_type": "code",
   "execution_count": 81,
   "id": "44f8aa97",
   "metadata": {},
   "outputs": [
    {
     "data": {
      "text/plain": [
       "RandomForestClassifier(n_estimators=500, random_state=80)"
      ]
     },
     "execution_count": 81,
     "metadata": {},
     "output_type": "execute_result"
    }
   ],
   "source": [
    "forest = RandomForestClassifier(n_estimators=500, random_state=80)\n",
    "forest.fit(x_train, y_train)"
   ]
  },
  {
   "cell_type": "markdown",
   "id": "beff63af",
   "metadata": {},
   "source": [
    "## Evaluate Model Fit"
   ]
  },
  {
   "cell_type": "code",
   "execution_count": 82,
   "id": "267614fe",
   "metadata": {},
   "outputs": [],
   "source": [
    "forestPredictions = forest.predict(x_test)"
   ]
  },
  {
   "cell_type": "code",
   "execution_count": 83,
   "id": "2e36e72a",
   "metadata": {},
   "outputs": [
    {
     "name": "stdout",
     "output_type": "stream",
     "text": [
      "0.6750348675034867\n"
     ]
    }
   ],
   "source": [
    "print(accuracy_score(y_test, forest.predict(x_test)))"
   ]
  },
  {
   "cell_type": "markdown",
   "id": "c7be76e6",
   "metadata": {},
   "source": [
    "67% overall accuracy"
   ]
  },
  {
   "cell_type": "code",
   "execution_count": 84,
   "id": "63b6bcd4",
   "metadata": {},
   "outputs": [
    {
     "name": "stdout",
     "output_type": "stream",
     "text": [
      "              precision    recall  f1-score   support\n",
      "\n",
      "        0-10       0.68      0.85      0.75       364\n",
      "       11-20       0.64      0.56      0.60       265\n",
      "       21-30       0.96      0.31      0.47        77\n",
      "       31-40       1.00      0.36      0.53        11\n",
      "    Above 40       0.00      0.00      0.00         0\n",
      "\n",
      "    accuracy                           0.68       717\n",
      "   macro avg       0.66      0.42      0.47       717\n",
      "weighted avg       0.70      0.68      0.66       717\n",
      "\n"
     ]
    }
   ],
   "source": [
    "print(classification_report(y_test, forestPredictions, zero_division=0))"
   ]
  },
  {
   "cell_type": "markdown",
   "id": "9968fd94",
   "metadata": {},
   "source": [
    "SaleIndex are accurate predicted 68% for 0-10, 64% for 11-20, 96% for 21-30, 100% for 31-40, 0% for Above 40.  Over all accuracy is 70%"
   ]
  },
  {
   "cell_type": "markdown",
   "id": "4c4ed0c3",
   "metadata": {},
   "source": [
    "# Hyperparameter Tuning "
   ]
  },
  {
   "cell_type": "markdown",
   "id": "d8ecd1f3",
   "metadata": {},
   "source": [
    "## Number of Estimators"
   ]
  },
  {
   "cell_type": "code",
   "execution_count": 85,
   "id": "113e9733",
   "metadata": {
    "scrolled": true
   },
   "outputs": [
    {
     "name": "stdout",
     "output_type": "stream",
     "text": [
      "1 : 0.4825662482566248\n",
      "4 : 0.5885634588563459\n",
      "5 : 0.599721059972106\n",
      "8 : 0.6331938633193863\n",
      "10 : 0.6457461645746164\n",
      "20 : 0.6638772663877266\n",
      "50 : 0.6694560669456067\n",
      "75 : 0.6778242677824268\n",
      "100 : 0.6750348675034867\n",
      "250 : 0.6722454672245467\n",
      "500 : 0.6847977684797768\n"
     ]
    }
   ],
   "source": [
    "n_estimators_array = [1, 4, 5, 8, 10, 20, 50, 75, 100, 250, 500]\n",
    "results = []\n",
    "for n in n_estimators_array:\n",
    "    forest = RandomForestClassifier(n_estimators=n, random_state=76)\n",
    "    forest.fit(x_train, y_train)\n",
    "    result = accuracy_score(y_test, forest.predict(x_test))\n",
    "    results.append(result) \n",
    "    print(n, ':', result)"
   ]
  },
  {
   "cell_type": "markdown",
   "id": "bfc2c46e",
   "metadata": {},
   "source": [
    "So it looks like the best accuracy arises when you use only 75 trees instead of the standard 500!"
   ]
  },
  {
   "cell_type": "code",
   "execution_count": 86,
   "id": "4c87bd35",
   "metadata": {},
   "outputs": [
    {
     "data": {
      "text/plain": [
       "[<matplotlib.lines.Line2D at 0x1d384071d60>]"
      ]
     },
     "execution_count": 86,
     "metadata": {},
     "output_type": "execute_result"
    },
    {
     "data": {
      "image/png": "[encoded data removed]",
      "text/plain": [
       "<Figure size 432x288 with 1 Axes>"
      ]
     },
     "metadata": {
      "needs_background": "light"
     },
     "output_type": "display_data"
    }
   ],
   "source": [
    "plt.plot(n_estimators_array, results)"
   ]
  },
  {
   "cell_type": "markdown",
   "id": "c4f36cd3",
   "metadata": {},
   "source": [
    "## Tuning the Remaining Three"
   ]
  },
  {
   "cell_type": "code",
   "execution_count": 87,
   "id": "f738319f",
   "metadata": {},
   "outputs": [
    {
     "name": "stdout",
     "output_type": "stream",
     "text": [
      "{'max_features': ['auto', None, 'log2'], 'max_depth': [10, 20, 30, 40, 50, 60, 70, 80, 90, None], 'min_samples_leaf': [1, 2, 4]}\n"
     ]
    }
   ],
   "source": [
    "# Number of features to consider at every split\n",
    "max_features = ['auto', None, 'log2']\n",
    "# Maximum number of levels in tree\n",
    "max_depth = [10, 20, 30, 40, 50, 60, 70, 80, 90, None]\n",
    "# Minimum number of samples required at each leaf node\n",
    "min_samples_leaf = [1, 2, 4]\n",
    "# Method of selecting samples for training each tree\n",
    "random_grid = {'max_features': max_features,\n",
    "               'max_depth': max_depth,\n",
    "               'min_samples_leaf': min_samples_leaf}\n",
    "print(random_grid)"
   ]
  },
  {
   "cell_type": "code",
   "execution_count": 88,
   "id": "6fc2da9b",
   "metadata": {},
   "outputs": [],
   "source": [
    "rf = RandomForestClassifier(n_estimators=75)\n",
    "rf_random = RandomizedSearchCV(estimator = rf, param_distributions = random_grid, n_iter = 90, cv = 3, random_state=42)"
   ]
  },
  {
   "cell_type": "code",
   "execution_count": 94,
   "id": "6f551216",
   "metadata": {},
   "outputs": [
    {
     "name": "stderr",
     "output_type": "stream",
     "text": [
      "C:\\Users\\dollp\\anaconda3\\lib\\site-packages\\sklearn\\model_selection\\_split.py:666: UserWarning: The least populated class in y has only 2 members, which is less than n_splits=3.\n",
      "  warnings.warn((\"The least populated class in y has only %d\"\n"
     ]
    },
    {
     "data": {
      "text/plain": [
       "RandomizedSearchCV(cv=3, estimator=RandomForestClassifier(n_estimators=75),\n",
       "                   n_iter=90,\n",
       "                   param_distributions={'max_depth': [10, 20, 30, 40, 50, 60,\n",
       "                                                      70, 80, 90, None],\n",
       "                                        'max_features': ['auto', None, 'log2'],\n",
       "                                        'min_samples_leaf': [1, 2, 4]},\n",
       "                   random_state=42)"
      ]
     },
     "execution_count": 94,
     "metadata": {},
     "output_type": "execute_result"
    }
   ],
   "source": [
    "rf_random.fit(x_train, y_train)"
   ]
  },
  {
   "cell_type": "code",
   "execution_count": 95,
   "id": "4f9dd0ad",
   "metadata": {},
   "outputs": [
    {
     "data": {
      "text/plain": [
       "{'min_samples_leaf': 1, 'max_features': 'log2', 'max_depth': 30}"
      ]
     },
     "execution_count": 95,
     "metadata": {},
     "output_type": "execute_result"
    }
   ],
   "source": [
    "rf_random.best_params_\n"
   ]
  },
  {
   "cell_type": "code",
   "execution_count": 96,
   "id": "7781bc65",
   "metadata": {},
   "outputs": [
    {
     "data": {
      "text/plain": [
       "RandomForestClassifier(max_depth=30, n_estimators=10)"
      ]
     },
     "execution_count": 96,
     "metadata": {},
     "output_type": "execute_result"
    }
   ],
   "source": [
    "forest = RandomForestClassifier(n_estimators=10, min_samples_leaf=1, max_features=\"auto\", max_depth=30)\n",
    "forest.fit(x_train, y_train)"
   ]
  },
  {
   "cell_type": "code",
   "execution_count": 97,
   "id": "2c19a746",
   "metadata": {},
   "outputs": [
    {
     "name": "stdout",
     "output_type": "stream",
     "text": [
      "[[283  76   4   0   1]\n",
      " [131 129   4   1   0]\n",
      " [ 32  20  25   0   0]\n",
      " [  4   4   0   3   0]\n",
      " [  0   0   0   0   0]]\n"
     ]
    }
   ],
   "source": [
    "forestPredictionsTuning = forest.predict(x_test)\n",
    "print(confusion_matrix(y_test, forestPredictionsTuning))"
   ]
  },
  {
   "cell_type": "code",
   "execution_count": 98,
   "id": "7421930a",
   "metadata": {},
   "outputs": [
    {
     "name": "stdout",
     "output_type": "stream",
     "text": [
      "              precision    recall  f1-score   support\n",
      "\n",
      "        0-10       0.63      0.78      0.70       364\n",
      "       11-20       0.56      0.49      0.52       265\n",
      "       21-30       0.76      0.32      0.45        77\n",
      "       31-40       0.75      0.27      0.40        11\n",
      "    Above 40       0.00      0.00      0.00         0\n",
      "\n",
      "    accuracy                           0.61       717\n",
      "   macro avg       0.54      0.37      0.41       717\n",
      "weighted avg       0.62      0.61      0.60       717\n",
      "\n"
     ]
    },
    {
     "name": "stderr",
     "output_type": "stream",
     "text": [
      "C:\\Users\\dollp\\anaconda3\\lib\\site-packages\\sklearn\\metrics\\_classification.py:1245: UndefinedMetricWarning: Recall and F-score are ill-defined and being set to 0.0 in labels with no true samples. Use `zero_division` parameter to control this behavior.\n",
      "  _warn_prf(average, modifier, msg_start, len(result))\n",
      "C:\\Users\\dollp\\anaconda3\\lib\\site-packages\\sklearn\\metrics\\_classification.py:1245: UndefinedMetricWarning: Recall and F-score are ill-defined and being set to 0.0 in labels with no true samples. Use `zero_division` parameter to control this behavior.\n",
      "  _warn_prf(average, modifier, msg_start, len(result))\n",
      "C:\\Users\\dollp\\anaconda3\\lib\\site-packages\\sklearn\\metrics\\_classification.py:1245: UndefinedMetricWarning: Recall and F-score are ill-defined and being set to 0.0 in labels with no true samples. Use `zero_division` parameter to control this behavior.\n",
      "  _warn_prf(average, modifier, msg_start, len(result))\n"
     ]
    }
   ],
   "source": [
    "print(classification_report(y_test, forestPredictionsTuning))"
   ]
  },
  {
   "cell_type": "markdown",
   "id": "da32659f",
   "metadata": {},
   "source": [
    "Precision score for sale Index are as 68% for 0-10, 66% for 11-20, 96% for 21-30, 100% for 31-40, over all 71% accuracy. "
   ]
  },
  {
   "cell_type": "code",
   "execution_count": null,
   "id": "915c3d0f",
   "metadata": {},
   "outputs": [],
   "source": []
  }
 ],
 "metadata": {
  "kernelspec": {
   "display_name": "Python 3",
   "language": "python",
   "name": "python3"
  },
  "language_info": {
   "codemirror_mode": {
    "name": "ipython",
    "version": 3
   },
   "file_extension": ".py",
   "mimetype": "text/x-python",
   "name": "python",
   "nbconvert_exporter": "python",
   "pygments_lexer": "ipython3",
   "version": "3.8.8"
  }
 },
 "nbformat": 4,
 "nbformat_minor": 5
}
